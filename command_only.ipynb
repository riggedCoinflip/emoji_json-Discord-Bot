import json

'''Exports all Emojis of the Server into a JSON file with: "emoji.name" = "str(emoji)'''
@bot.command()
async def emojis_json(ctx):
    emoji_dict = {emoji.name: str(emoji) for emoji in ctx.guild.emojis}  # fill dictionary with values
        
    path = r'C:\folder\emojis.json'
    with open(path, 'w') as f:
        json.dump(emoji_dict, f, sort_keys=True, indent=4)
        print ("Emojis exported to", path)
        await ctx.send('Fetching Emojis.....Done!')
