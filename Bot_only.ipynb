!pip install nest_asyncio
!pip install discord.py
import nest_asyncio  #to allow nested event loop - else: RuntimeError: Cannot Close a running event loop
nest_asyncio.apply()
import discord
from discord.ext import commands
import json

description = '''Exports all Emojis of the Server into a JSON file with: "emoji.name" = "str(emoji)""'''

bot = commands.Bot(command_prefix='!', description=description)

@bot.event
async def on_ready():
    print('Logged in as')
    print(bot.user.name)
    print(bot.user.id)
    print('------')

'''Exports all Emojis of the Server into a JSON file with: "emoji.name" = "str(emoji)'''
@bot.command()
async def emojis_json(ctx):
    emoji_dict = {emoji.name: str(emoji) for emoji in ctx.guild.emojis}  # fill dictionary with values
        
    path = r'C:\folder\emojis.json'
    with open(path, 'w') as f:
        json.dump(emoji_dict, f, sort_keys=True, indent=4)
        print ("Emojis imported!")
        await ctx.send('Fetching Emojis.....Done!')
           
bot.run('Token')
