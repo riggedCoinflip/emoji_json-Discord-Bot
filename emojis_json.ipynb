{
 "cells": [
  {
   "cell_type": "markdown",
   "metadata": {},
   "source": [
    "# fetch_emojis Discord Bot\n",
    "### by riggedCoinflip\n",
    "\n",
    "## raw Command Below\n",
    "\n",
    "Copyright: Do whatever you want with the Code. I would like it if you mention me.\n",
    "\n",
    "This Bot uses the Guild.emojis as described in:\n",
    "https://discordpy.readthedocs.io/en/latest/api.html#guild.emojis <br>\n",
    "to create a JSON-File containing these keywords as:\n",
    "<blockquote>\n",
    "    { <br>\n",
    "    &emsp;    \"emoji.name\" = \"str(emoji)\",  <br>\n",
    "    &emsp;    . <br>\n",
    "    &emsp;    . <br>\n",
    "    &emsp;    . <br>\n",
    "    } <br>\n",
    "</blockquote>\n",
    "\n",
    "with str(emoji) containing name and id.\n",
    "\n",
    "for example:\n",
    "<blockquote>\n",
    "    { <br>\n",
    "    &emsp;    \"foo\" = \"&lt:foo:123456789012345678&gt\", <br>\n",
    "    &emsp;    \"bar\" = \"&lt:bar:987654321098765432&gt\", <br>\n",
    "    &emsp;    \"ack\" = \"&lt:ack:2582012840158349683&gt\", <br>\n",
    "    &emsp;    \"wibble\" = \"&lt:wibble:287394871261947134&gt\" <br>\n",
    "    } <br>\n",
    "</blockquote>\n",
    "\n",
    "Attention: This overwrites a (probably) existing file in path.\n",
    "\n",
    "To use the Bot, follow the instructions on https://discordpy.readthedocs.io/en/latest/discord.html\n",
    "and replace Token in the last line (bot.run('Token')) with your generated Token.\n",
    "\n",
    "Then write !emojis_json in your Server to fetch the emotes."
   ]
  },
  {
   "cell_type": "code",
   "execution_count": null,
   "metadata": {},
   "outputs": [
    {
     "name": "stdout",
     "output_type": "stream",
     "text": [
      "Logged in as\n",
      "Discard Bot\n",
      "677581810695405569\n",
      "------\n",
      "Emojis imported!\n"
     ]
    },
    {
     "name": "stderr",
     "output_type": "stream",
     "text": [
      "Ignoring exception in command None:\n",
      "discord.ext.commands.errors.CommandNotFound: Command \"ajdf\" is not found\n"
     ]
    }
   ],
   "source": [
    "#!pip install nest_asyncio\n",
    "#!pip install discord.py\n",
    "import nest_asyncio  #to allow nested event loop - else: RuntimeError: Cannot Close a running event loop\n",
    "nest_asyncio.apply()\n",
    "import discord\n",
    "from discord.ext import commands\n",
    "import json\n",
    "\n",
    "description = '''Exports all Emojis of the Server into a JSON file with: \"emoji.name\" = \"str(emoji)\"\"'''\n",
    "\n",
    "bot = commands.Bot(command_prefix='!', description=description)\n",
    "\n",
    "@bot.event\n",
    "async def on_ready():\n",
    "    print('Logged in as')\n",
    "    print(bot.user.name)\n",
    "    print(bot.user.id)\n",
    "    print('------')\n",
    "\n",
    "'''Exports all Emojis of the Server into a JSON file with: \"emoji.name\" = \"str(emoji)'''\n",
    "@bot.command()\n",
    "async def emojis_json(ctx):\n",
    "    emoji_dict = {emoji.name: str(emoji) for emoji in ctx.guild.emojis}  # fill dictionary with values\n",
    "        \n",
    "    path = r'C:\\folder\\emojis.json'\n",
    "    with open(path, 'w') as f:\n",
    "        json.dump(emoji_dict, f, sort_keys=True, indent=4)\n",
    "        print (\"Emojis imported!\")\n",
    "        await ctx.send('Fetching Emojis.....Done!')\n",
    "           \n",
    "bot.run('Token')"
   ]
  },
  {
   "cell_type": "markdown",
   "metadata": {},
   "source": [
    "# Raw Command"
   ]
  },
  {
   "cell_type": "code",
   "execution_count": null,
   "metadata": {},
   "outputs": [],
   "source": [
    "'''Exports all Emojis of the Server into a JSON file with: \"emoji.name\" = \"str(emoji)'''\n",
    "@bot.command()\n",
    "async def emojis_json(ctx):\n",
    "    emoji_dict = {emoji.name: str(emoji) for emoji in ctx.guild.emojis}  # fill dictionary with values\n",
    "        \n",
    "    path = r'C:\\folder\\emojis.json'\n",
    "    with open(path, 'w') as f:\n",
    "        json.dump(emoji_dict, f, sort_keys=True, indent=4)\n",
    "        print (\"Emojis imported!\")\n",
    "        await ctx.send('Fetching Emojis.....Done!')"
   ]
  },
  {
   "cell_type": "code",
   "execution_count": null,
   "metadata": {},
   "outputs": [],
   "source": []
  }
 ],
 "metadata": {
  "kernelspec": {
   "display_name": "Python 3",
   "language": "python",
   "name": "python3"
  },
  "language_info": {
   "codemirror_mode": {
    "name": "ipython",
    "version": 3
   },
   "file_extension": ".py",
   "mimetype": "text/x-python",
   "name": "python",
   "nbconvert_exporter": "python",
   "pygments_lexer": "ipython3",
   "version": "3.7.4"
  }
 },
 "nbformat": 4,
 "nbformat_minor": 4
}
